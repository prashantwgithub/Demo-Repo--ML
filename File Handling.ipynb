{
 "cells": [
  {
   "cell_type": "markdown",
   "id": "3e39994f",
   "metadata": {},
   "source": [
    "# File Handling in Python\n"
   ]
  },
  {
   "cell_type": "markdown",
   "id": "eafa940c",
   "metadata": {},
   "source": [
    "# A file Object allows  us to use,access and manipulate all user accessible files. \n",
    "# You can read, Write to a file\n",
    "# A file can be opened with a bulit in function called open()\n",
    "# The Open function takes in the file's address and the access mode(r,w etc) and return file object.\n",
    "Syntax\n",
    "\n",
    "file object= open(file name,mode)\n",
    "\n"
   ]
  }
 ],
 "metadata": {
  "kernelspec": {
   "display_name": "Python 3 (ipykernel)",
   "language": "python",
   "name": "python3"
  },
  "language_info": {
   "codemirror_mode": {
    "name": "ipython",
    "version": 3
   },
   "file_extension": ".py",
   "mimetype": "text/x-python",
   "name": "python",
   "nbconvert_exporter": "python",
   "pygments_lexer": "ipython3",
   "version": "3.10.9"
  }
 },
 "nbformat": 4,
 "nbformat_minor": 5
}
